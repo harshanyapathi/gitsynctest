{
 "cells": [
  {
   "cell_type": "code",
   "execution_count": null,
   "metadata": {},
   "outputs": [],
   "source": [
    "import mongo_conn\n",
    "\n",
    "def read_data():\n",
    "    client=mongo_conn.create_mongo_connection()\n",
    "    db=client.sample_airbnb\n",
    "    rows=db.listingsAndReviews.find().limit(10)\n",
    "    records=[]\n",
    "    for row in rows:\n",
    "        records.append(row)\n",
    "    client.close()\n",
    "    return records"
   ]
  }
 ],
 "metadata": {
  "language_info": {
   "name": "python"
  }
 },
 "nbformat": 4,
 "nbformat_minor": 2
}
